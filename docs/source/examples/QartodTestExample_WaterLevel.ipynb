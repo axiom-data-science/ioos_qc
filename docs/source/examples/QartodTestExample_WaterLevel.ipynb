{
 "cells": [
  {
   "cell_type": "markdown",
   "metadata": {},
   "source": [
    "# Setup"
   ]
  },
  {
   "cell_type": "code",
   "execution_count": null,
   "metadata": {},
   "outputs": [],
   "source": [
    "# Install QC library\n",
    "#!pip install git+git://github.com/ioos/ioos_qc.git\n",
    "from ioos_qc.config import QcConfig\n",
    "from ioos_qc import qartod"
   ]
  },
  {
   "cell_type": "code",
   "execution_count": null,
   "metadata": {},
   "outputs": [],
   "source": [
    "# Other imports\n",
    "import pandas as pd\n",
    "import numpy as np\n",
    "from datetime import datetime\n",
    "\n",
    "from bokeh.layouts import gridplot\n",
    "from bokeh.plotting import figure, show, output_file, output_notebook\n",
    "output_notebook()"
   ]
  },
  {
   "cell_type": "code",
   "execution_count": null,
   "metadata": {},
   "outputs": [],
   "source": [
    "# Method to plot QC results using Bokeh\n",
    "def plot_results(data, var_name, results, title, test_name):\n",
    "\n",
    "    time = data['time']\n",
    "    obs = data[var_name]\n",
    "    qc_test = results['qartod'][test_name]\n",
    "\n",
    "    qc_pass = np.ma.masked_where(qc_test != 1, obs)\n",
    "    qc_suspect = np.ma.masked_where(qc_test != 3, obs)\n",
    "    qc_fail = np.ma.masked_where(qc_test != 4, obs)\n",
    "    qc_notrun = np.ma.masked_where(qc_test != 2, obs)\n",
    "\n",
    "    p1 = figure(x_axis_type=\"datetime\", title=test_name + ' : ' + title)\n",
    "    p1.grid.grid_line_alpha=0.3\n",
    "    p1.xaxis.axis_label = 'Time'\n",
    "    p1.yaxis.axis_label = 'Observation Value'\n",
    "\n",
    "    p1.line(time, obs,  legend='obs', color='#A6CEE3')\n",
    "    p1.circle(time, qc_notrun, size=2, legend='qc not run', color='gray', alpha=0.2)\n",
    "    p1.circle(time, qc_pass, size=4, legend='qc pass', color='green', alpha=0.5)\n",
    "    p1.circle(time, qc_suspect, size=4, legend='qc suspect', color='orange', alpha=0.7)\n",
    "    p1.circle(time, qc_fail, size=6, legend='qc fail', color='red', alpha=1.0)\n",
    "\n",
    "    #output_file(\"qc.html\", title=\"qc example\")\n",
    "\n",
    "    show(gridplot([[p1]], plot_width=800, plot_height=400))\n"
   ]
  },
  {
   "cell_type": "markdown",
   "metadata": {},
   "source": [
    "# Specify data and QC configuration"
   ]
  },
  {
   "cell_type": "code",
   "execution_count": null,
   "metadata": {},
   "outputs": [],
   "source": [
    "# Water level data\n",
    "# For a fixed station in Kotzebue, AK (https://www.google.com/maps?q=66.895035,-162.566752)\n",
    "filename = 'water_level_example.csv'\n",
    "variable_name='sea_surface_height_above_sea_level'\n",
    "\n",
    "# QC configuration\n",
    "# For sea water temperature in degrees C\n",
    "# This configuration is used to call the corresponding method in the ioos_qc library\n",
    "# See documentation for description of each test and its inputs: \n",
    "#   https://ioos.github.io/ioos_qc/api/ioos_qc.html#module-ioos_qc.qartod\n",
    "qc_config = {\n",
    "    'qartod': {\n",
    "      \"gross_range_test\": {\n",
    "        \"fail_span\": [-10,10],\n",
    "        \"suspect_span\": [-2,3]\n",
    "      },\n",
    "      \"flat_line_test\": {\n",
    "        \"tolerance\": 0.001,\n",
    "        \"suspect_threshold\": 10800,\n",
    "        \"fail_threshold\": 21600\n",
    "      },\n",
    "      \"rate_of_change_test\": {\n",
    "        \"threshold\": 0.001\n",
    "      },\n",
    "      \"spike_test\": {\n",
    "        \"suspect_threshold\": 0.8,\n",
    "        \"fail_threshold\": 3\n",
    "      }\n",
    "    }\n",
    "}"
   ]
  },
  {
   "cell_type": "markdown",
   "metadata": {},
   "source": [
    "# Load data, run tests and plot results"
   ]
  },
  {
   "cell_type": "code",
   "execution_count": null,
   "metadata": {},
   "outputs": [],
   "source": [
    "# Load data\n",
    "data = pd.read_csv(filename, parse_dates=['time'])\n",
    "data.head()"
   ]
  },
  {
   "cell_type": "code",
   "execution_count": null,
   "metadata": {},
   "outputs": [],
   "source": [
    "# Run QC\n",
    "qc = QcConfig(qc_config)\n",
    "qc_results =  qc.run(\n",
    "    inp=data[variable_name],\n",
    "    tinp=data['timestamp'],\n",
    "    zinp=data['z']\n",
    ")\n",
    "all_tests = [qc_results['qartod'][test_name] for test_name in qc_results['qartod'].keys()]\n",
    "qc_results['qartod']['qc_agg'] = qartod.qartod_compare(all_tests).astype(int)\n",
    "qc_results\n"
   ]
  },
  {
   "cell_type": "code",
   "execution_count": null,
   "metadata": {},
   "outputs": [],
   "source": [
    "# Plot results\n",
    "title = \"Water Level [MHHW] [m] : Kotzebue, AK\"\n",
    "\n",
    "plot_results(data, variable_name, qc_results, title, 'gross_range_test')"
   ]
  },
  {
   "cell_type": "code",
   "execution_count": null,
   "metadata": {},
   "outputs": [],
   "source": [
    "plot_results(data, variable_name, qc_results, title, 'flat_line_test')"
   ]
  },
  {
   "cell_type": "code",
   "execution_count": null,
   "metadata": {},
   "outputs": [],
   "source": [
    "plot_results(data, variable_name, qc_results, title, 'rate_of_change_test')"
   ]
  },
  {
   "cell_type": "code",
   "execution_count": null,
   "metadata": {
    "scrolled": false
   },
   "outputs": [],
   "source": [
    "plot_results(data, variable_name, qc_results, title, 'spike_test')"
   ]
  },
  {
   "cell_type": "code",
   "execution_count": null,
   "metadata": {},
   "outputs": [],
   "source": [
    "# QC Aggregate flag\n",
    "plot_results(data, variable_name, qc_results, title, 'qc_agg')"
   ]
  },
  {
   "cell_type": "code",
   "execution_count": null,
   "metadata": {},
   "outputs": [],
   "source": []
  }
 ],
 "metadata": {
  "kernelspec": {
   "display_name": "Python 3",
   "language": "python",
   "name": "python3"
  },
  "language_info": {
   "codemirror_mode": {
    "name": "ipython",
    "version": 3
   },
   "file_extension": ".py",
   "mimetype": "text/x-python",
   "name": "python",
   "nbconvert_exporter": "python",
   "pygments_lexer": "ipython3",
   "version": "3.7.4"
  }
 },
 "nbformat": 4,
 "nbformat_minor": 2
}
