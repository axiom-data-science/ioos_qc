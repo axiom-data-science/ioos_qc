{
 "cells": [
  {
   "cell_type": "markdown",
   "metadata": {},
   "source": [
    "# QARTOD - Single Test\n",
    "\n",
    "This notebook shows the simplest use case for the IOOS QARTOD package - a single test performed on a timeseries loaded into a Pandas DataFrame. It shows how to define the test configuration and how the output is structured. At the end, there is an example of how to use the flags in data visualization. \n",
    "\n",
    "# Setup"
   ]
  },
  {
   "cell_type": "code",
   "execution_count": null,
   "metadata": {},
   "outputs": [],
   "source": [
    "# Other imports\n",
    "import pandas as pd\n",
    "import numpy as np\n",
    "from datetime import datetime\n",
    "\n",
    "from bokeh.layouts import gridplot\n",
    "from bokeh.plotting import figure, show, output_file, output_notebook\n",
    "output_notebook()"
   ]
  },
  {
   "cell_type": "code",
   "execution_count": null,
   "metadata": {},
   "outputs": [],
   "source": [
    "# Install QC library\n",
    "!pip install git+git://github.com/ioos/ioos_qc.git\n",
    "from ioos_qc.config import QcConfig\n",
    "from ioos_qc import qartod"
   ]
  },
  {
   "cell_type": "markdown",
   "metadata": {},
   "source": [
    "# Load data\n",
    "\n",
    "Loads data from a local .csv file and put it into a Pandas DataFrame"
   ]
  },
  {
   "cell_type": "code",
   "execution_count": null,
   "metadata": {},
   "outputs": [],
   "source": [
    "# Water level data\n",
    "# For a fixed station in Kotzebue, AK (https://www.google.com/maps?q=66.895035,-162.566752)\n",
    "filename = 'water_level_example.csv'\n",
    "variable_name='sea_surface_height_above_sea_level'\n",
    "\n",
    "# Load data\n",
    "data = pd.read_csv(filename, parse_dates=['time'])\n",
    "data.head()"
   ]
  },
  {
   "cell_type": "markdown",
   "metadata": {},
   "source": [
    "# Call test method directly\n",
    "\n",
    "You can all individual QARTOD tests directly, manually passing in data and parameters."
   ]
  },
  {
   "cell_type": "code",
   "execution_count": null,
   "metadata": {},
   "outputs": [],
   "source": [
    "qc_results = qartod.spike_test(\n",
    "    inp=data[variable_name],\n",
    "    suspect_threshold=0.8,\n",
    "    fail_threshold=3\n",
    ")\n",
    "print(qc_results)"
   ]
  },
  {
   "cell_type": "markdown",
   "metadata": {},
   "source": [
    "# QC configuration and Running\n",
    "\n",
    "While you can call qartod methods directly, we recommend using a `QcConfig` object instead. This object encapsulates the test method and parameters into a single dict or JSON object. This makes your configuration more understandable and portable.\n",
    "\n",
    "The `QcConfig` object is a special configuration object that determines which tests are run and defines the configuration for each test. The object's `run()` function runs the appropriate tests and returns a resulting dictionary of flag values.\n",
    "\n",
    "Descriptions of each test and its inputs can be found in the [ioos_qc.qartod module documentation](https://ioos.github.io/ioos_qc/api/ioos_qc.html#module-ioos_qc.qartod)\n",
    "\n",
    "[QartodFlags](https://ioos.github.io/ioos_qc/api/ioos_qc.html#ioos_qc.qartod.QartodFlags) defines the flag meanings.\n"
   ]
  },
  {
   "cell_type": "code",
   "execution_count": null,
   "metadata": {},
   "outputs": [],
   "source": [
    "# The configuration object can be initialized using a dictionary or a YAML file. Here is one example:\n",
    "# QC configuration dictionary for a single test: the spike test\n",
    "qc_config = {\n",
    "    'qartod': {\n",
    "      \"spike_test\": {\n",
    "        \"suspect_threshold\": 0.8,\n",
    "        \"fail_threshold\": 3\n",
    "      }\n",
    "    }\n",
    "}\n",
    "\n",
    "# Instantiate the configuration object\n",
    "qc = QcConfig(qc_config)\n",
    "print(qc)\n"
   ]
  },
  {
   "cell_type": "code",
   "execution_count": null,
   "metadata": {},
   "outputs": [],
   "source": [
    "# run the test\n",
    "qc_results =  qc.run(\n",
    "    inp=data[variable_name],\n",
    "    tinp=data['time']  # can also use 'timestamp'\n",
    ")\n",
    "print(qc_results)"
   ]
  },
  {
   "cell_type": "code",
   "execution_count": null,
   "metadata": {},
   "outputs": [],
   "source": [
    "# These results can be visualized using Bokeh\n",
    "\n",
    "# Set-up\n",
    "title = \"Water Level [MHHW] [m] : Kotzebue, AK\"\n",
    "time = data['time']\n",
    "qc_test = qc_results['qartod']['spike_test']\n",
    "\n",
    "# Create the figure object\n",
    "p1 = figure(x_axis_type=\"datetime\", title='Spike Test : ' + title)\n",
    "p1.grid.grid_line_alpha=0.3\n",
    "p1.xaxis.axis_label = 'Time'\n",
    "p1.yaxis.axis_label = 'Spike Test Result'\n",
    "p1.line(time, qc_test, color='blue')\n",
    "\n",
    "# Display it\n",
    "show(gridplot([[p1]], plot_width=800, plot_height=400))"
   ]
  },
  {
   "cell_type": "markdown",
   "metadata": {},
   "source": [
    "# Alternative Configuration Method\n",
    "\n"
   ]
  },
  {
   "cell_type": "code",
   "execution_count": null,
   "metadata": {},
   "outputs": [],
   "source": [
    "# Here is the same example using the YAML file:\n",
    "# QC configuration dictionary for a single test: the spike test\n",
    "# Instantiate the configuration object\n",
    "qc = QcConfig('./spike_test.yaml')\n",
    "\n",
    "# run the test\n",
    "qc_results =  qc.run(\n",
    "    inp=data[variable_name],\n",
    "    tinp=data['timestamp'],\n",
    ")\n",
    "qc_results"
   ]
  },
  {
   "cell_type": "code",
   "execution_count": null,
   "metadata": {},
   "outputs": [],
   "source": [
    "# These results can be visualized using Bokeh\n",
    "\n",
    "# Set-up\n",
    "title = \"Water Level [MHHW] [m] : Kotzebue, AK\"\n",
    "time = data['time']\n",
    "qc_test = qc_results['qartod']['spike_test']\n",
    "\n",
    "# Create the figure object\n",
    "p1 = figure(x_axis_type=\"datetime\", title='Spike Test : ' + title)\n",
    "p1.grid.grid_line_alpha=0.3\n",
    "p1.xaxis.axis_label = 'Time'\n",
    "p1.yaxis.axis_label = 'Spike Test Result'\n",
    "p1.line(time, qc_test, color='blue')\n",
    "\n",
    "# Display it\n",
    "show(gridplot([[p1]], plot_width=800, plot_height=400))"
   ]
  },
  {
   "cell_type": "markdown",
   "metadata": {},
   "source": [
    "# Using the Flags\n",
    "\n",
    "The array of flags can then be used to filter data or color plots"
   ]
  },
  {
   "cell_type": "code",
   "execution_count": null,
   "metadata": {},
   "outputs": [],
   "source": [
    "def plot_results(data, var_name, results, title, test_name):\n",
    "    \"\"\" Plot timeseries of original data colored by quality flag\n",
    "    \n",
    "    Args:\n",
    "        data: pd.DataFrame of original data including a time variable\n",
    "        var_name: string name of the variable to plot\n",
    "        results: Ordered Dictionary of qartod test results\n",
    "        title: string to add to plot title\n",
    "        test_name: name of the test to determine which flags to use\n",
    "    \"\"\"\n",
    "    # Set-up\n",
    "    time = data['time']\n",
    "    obs = data[var_name]\n",
    "    qc_test = results['qartod'][test_name]\n",
    "\n",
    "    # Create a separate timeseries of each flag value\n",
    "    qc_pass = np.ma.masked_where(qc_test != 1, obs)\n",
    "    qc_suspect = np.ma.masked_where(qc_test != 3, obs)\n",
    "    qc_fail = np.ma.masked_where(qc_test != 4, obs)\n",
    "    qc_notrun = np.ma.masked_where(qc_test != 2, obs)\n",
    "\n",
    "    # start the figure\n",
    "    p1 = figure(x_axis_type=\"datetime\", title=test_name + ' : ' + title)\n",
    "    p1.grid.grid_line_alpha=0.3\n",
    "    p1.xaxis.axis_label = 'Time'\n",
    "    p1.yaxis.axis_label = 'Observation Value'\n",
    "\n",
    "    # plot the data, and the data colored by flag\n",
    "    p1.line(time, obs,  legend='obs', color='#A6CEE3')\n",
    "    p1.circle(time, qc_notrun, size=2, legend='qc not run', color='gray', alpha=0.2)\n",
    "    p1.circle(time, qc_pass, size=4, legend='qc pass', color='green', alpha=0.5)\n",
    "    p1.circle(time, qc_suspect, size=4, legend='qc suspect', color='orange', alpha=0.7)\n",
    "    p1.circle(time, qc_fail, size=6, legend='qc fail', color='red', alpha=1.0)\n",
    "\n",
    "    # show the plot\n",
    "    show(gridplot([[p1]], plot_width=800, plot_height=400))\n"
   ]
  },
  {
   "cell_type": "code",
   "execution_count": null,
   "metadata": {},
   "outputs": [],
   "source": [
    "plot_results(data, variable_name, qc_results, title, 'spike_test')"
   ]
  },
  {
   "cell_type": "code",
   "execution_count": null,
   "metadata": {},
   "outputs": [],
   "source": [
    "# plot flag values again for comparison\n",
    "show(gridplot([[p1]], plot_width=800, plot_height=400))"
   ]
  },
  {
   "cell_type": "code",
   "execution_count": null,
   "metadata": {},
   "outputs": [],
   "source": []
  }
 ],
 "metadata": {
  "kernelspec": {
   "display_name": "Python 2",
   "language": "python",
   "name": "python2"
  },
  "language_info": {
   "codemirror_mode": {
    "name": "ipython",
    "version": 2
   },
   "file_extension": ".py",
   "mimetype": "text/x-python",
   "name": "python",
   "nbconvert_exporter": "python",
   "pygments_lexer": "ipython2",
   "version": "2.7.15"
  }
 },
 "nbformat": 4,
 "nbformat_minor": 2
}
