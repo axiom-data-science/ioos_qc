{
 "cells": [
  {
   "cell_type": "markdown",
   "metadata": {},
   "source": [
    "# Goal\n",
    "\n",
    "The purpose of this notebook is to provide an example use case of running the ioos/ioos_qc qartod library on a netCDF file. The example netCDF dataset is a pCO2 sensor from the Ocean Observatories Initiative (OOI) Coastal Endurance Inshore Surface Mooring instrument frame at 7 meters depth located on the Oregon Shelf break."
   ]
  },
  {
   "cell_type": "code",
   "execution_count": null,
   "metadata": {},
   "outputs": [],
   "source": [
    "# Install QC library\n",
    "#!pip install git+git://github.com/ioos/ioos_qc.git #(only run if the ioos_qc library not installed)\n",
    "from ioos_qc.config import NcQcConfig\n",
    "from ioos_qc import qartod"
   ]
  },
  {
   "cell_type": "code",
   "execution_count": null,
   "metadata": {},
   "outputs": [],
   "source": [
    "# Other imports\n",
    "import pandas as pd\n",
    "import numpy as np\n",
    "import xarray as xr\n",
    "from datetime import datetime\n",
    "\n",
    "from bokeh.layouts import gridplot\n",
    "from bokeh.plotting import figure, show, output_file, output_notebook\n",
    "output_notebook()"
   ]
  },
  {
   "cell_type": "markdown",
   "metadata": {},
   "source": [
    "## Check the netCDF dataset"
   ]
  },
  {
   "cell_type": "code",
   "execution_count": null,
   "metadata": {},
   "outputs": [],
   "source": [
    "pco2 = xr.open_dataset(\"pco2_netcdf_example.nc\")"
   ]
  },
  {
   "cell_type": "code",
   "execution_count": null,
   "metadata": {},
   "outputs": [],
   "source": [
    "for dim in pco2.dims:\n",
    "    print(dim)"
   ]
  },
  {
   "cell_type": "code",
   "execution_count": null,
   "metadata": {},
   "outputs": [],
   "source": [
    "for var in pco2.variables:\n",
    "    print(var)"
   ]
  },
  {
   "cell_type": "markdown",
   "metadata": {},
   "source": [
    "## Setup & Run a single QC test"
   ]
  },
  {
   "cell_type": "code",
   "execution_count": null,
   "metadata": {},
   "outputs": [],
   "source": [
    "# Create the config object\n",
    "config = {\n",
    "    'pco2_seawater': {\n",
    "        'qartod': {\n",
    "            'gross_range_test': {\n",
    "                'suspect_span': [200, 600],\n",
    "                'fail_span': [0, 1200]\n",
    "            }\n",
    "        }\n",
    "    }\n",
    "}\n",
    "\n",
    "qc = NcQcConfig(config)"
   ]
  },
  {
   "cell_type": "code",
   "execution_count": null,
   "metadata": {},
   "outputs": [],
   "source": [
    "# To run the qc on a netCDF file, call the path to the file, not the load netCDF dataset\n",
    "qc_gross_range = qc.run(\"pco2_netcdf_example.nc\")"
   ]
  },
  {
   "cell_type": "code",
   "execution_count": null,
   "metadata": {},
   "outputs": [],
   "source": [
    "# Check that the output is an OrderedDict and ran correctly\n",
    "print(qc_gross_range)"
   ]
  },
  {
   "cell_type": "code",
   "execution_count": null,
   "metadata": {},
   "outputs": [],
   "source": [
    "pco2.variables['time']"
   ]
  },
  {
   "cell_type": "code",
   "execution_count": null,
   "metadata": {},
   "outputs": [],
   "source": [
    "# Method to plot QC results using Bokeh\n",
    "def plot_ncresults(ncdata, var_name, results, title, test_name):\n",
    "\n",
    "    time = np.array(ncdata.variables['time'])\n",
    "    obs = np.array(ncdata.variables[var_name])\n",
    "    qc_test = results[var_name]['qartod'][test_name]\n",
    "\n",
    "    qc_pass = np.ma.masked_where(qc_test != 1, obs)\n",
    "    qc_suspect = np.ma.masked_where(qc_test != 3, obs)\n",
    "    qc_fail = np.ma.masked_where(qc_test != 4, obs)\n",
    "    qc_notrun = np.ma.masked_where(qc_test != 2, obs)\n",
    "\n",
    "    p1 = figure(x_axis_type=\"datetime\", title=test_name + ' : ' + title)\n",
    "    p1.grid.grid_line_alpha=0.3\n",
    "    p1.xaxis.axis_label = 'Time'\n",
    "    p1.yaxis.axis_label = 'Observation Value'\n",
    "\n",
    "    p1.line(time, obs,  legend='obs', color='#A6CEE3')\n",
    "    p1.circle(time, qc_notrun, size=2, legend='qc not run', color='gray', alpha=0.2)\n",
    "    p1.circle(time, qc_pass, size=4, legend='qc pass', color='green', alpha=0.5)\n",
    "    p1.circle(time, qc_suspect, size=4, legend='qc suspect', color='orange', alpha=0.7)\n",
    "    p1.circle(time, qc_fail, size=6, legend='qc fail', color='red', alpha=1.0)\n",
    "\n",
    "    #output_file(\"qc.html\", title=\"qc example\")\n",
    "\n",
    "    show(gridplot([[p1]], plot_width=800, plot_height=400))"
   ]
  },
  {
   "cell_type": "code",
   "execution_count": null,
   "metadata": {},
   "outputs": [],
   "source": [
    "# Just a quick note: OOI time data is in seconds since 1900-01-01, so that requires some further \n",
    "plot_ncresults(pco2, 'pco2_seawater', qc_gross_range, 'pCO2 seawater', 'gross_range_test')"
   ]
  },
  {
   "cell_type": "markdown",
   "metadata": {},
   "source": [
    "## Multiple tests \n",
    "\n",
    "When utilizing the NcQcConfig object with tests which require an ancillary variable, such as lat/lon for the location test or time for the rate_of_change_test, the ancillary variables must be pulled out of the netCDF file and passed back into the qc.run method as kwargs."
   ]
  },
  {
   "cell_type": "code",
   "execution_count": null,
   "metadata": {},
   "outputs": [],
   "source": [
    "nclat = np.array(pco2.variables['lat'])\n",
    "nclon = np.array(pco2.variables['lon'])\n",
    "nctime = np.array(pco2.variables['time'])\n",
    "ncobs = np.array(pco2.variables['pco2_seawater'])"
   ]
  },
  {
   "cell_type": "code",
   "execution_count": null,
   "metadata": {},
   "outputs": [],
   "source": [
    "nctime"
   ]
  },
  {
   "cell_type": "code",
   "execution_count": null,
   "metadata": {},
   "outputs": [],
   "source": [
    "# Create the config object\n",
    "config = {\n",
    "    'pco2_seawater': {\n",
    "        'qartod': {\n",
    "            'gross_range_test': {\n",
    "                'suspect_span': [200, 600],\n",
    "                'fail_span': [0, 1200]\n",
    "            },\n",
    "            'location_test': {\n",
    "                'bbox': [-124.5, 44, -123.5, 45]\n",
    "            },\n",
    "            'spike_test': {\n",
    "                'suspect_threshold': 10,\n",
    "                'fail_threshold': 100                \n",
    "            },\n",
    "            'flat_line_test': {\n",
    "                'tolerance': 1,\n",
    "                'suspect_threshold': 3600*1e3*1e9,\n",
    "                'fail_threshold': 86400*1e3*1e9\n",
    "            },\n",
    "            \n",
    "        }\n",
    "    }\n",
    "}\n",
    "\n",
    "qc = NcQcConfig(config)"
   ]
  },
  {
   "cell_type": "code",
   "execution_count": null,
   "metadata": {},
   "outputs": [],
   "source": [
    "qc_results = qc.run(\"pco2_netcdf_example.nc\",pco2_seawater={'lat':nclat,'lon':nclon,'tinp':nctime})"
   ]
  },
  {
   "cell_type": "code",
   "execution_count": null,
   "metadata": {},
   "outputs": [],
   "source": [
    "qc_results"
   ]
  },
  {
   "cell_type": "code",
   "execution_count": null,
   "metadata": {},
   "outputs": [],
   "source": [
    "plot_ncresults(pco2, 'pco2_seawater', qc_results, 'pCO2 seawater', 'flat_line_test')"
   ]
  },
  {
   "cell_type": "code",
   "execution_count": null,
   "metadata": {},
   "outputs": [],
   "source": [
    "plot_ncresults(pco2, 'pco2_seawater', qc_results, 'pCO2 seawater', 'spike_test')"
   ]
  },
  {
   "cell_type": "code",
   "execution_count": null,
   "metadata": {},
   "outputs": [],
   "source": [
    "plot_ncresults(pco2, 'pco2_seawater', qc_results, 'pCO2 seawater', 'gross_range_test')"
   ]
  },
  {
   "cell_type": "code",
   "execution_count": null,
   "metadata": {},
   "outputs": [],
   "source": [
    "plot_ncresults(pco2, 'pco2_seawater', qc_results, 'pCO2 seawater', 'location_test')"
   ]
  },
  {
   "cell_type": "markdown",
   "metadata": {},
   "source": [
    "Currently, the aggregate (roll-up) flag is not implemented for netCDF files.<br>\n",
    "After the tests have been run, results of the qc tests may be saved to the "
   ]
  }
 ],
 "metadata": {
  "kernelspec": {
   "display_name": "Python 3",
   "language": "python",
   "name": "python3"
  },
  "language_info": {
   "codemirror_mode": {
    "name": "ipython",
    "version": 3
   },
   "file_extension": ".py",
   "mimetype": "text/x-python",
   "name": "python",
   "nbconvert_exporter": "python",
   "pygments_lexer": "ipython3",
   "version": "3.7.4"
  }
 },
 "nbformat": 4,
 "nbformat_minor": 2
}
