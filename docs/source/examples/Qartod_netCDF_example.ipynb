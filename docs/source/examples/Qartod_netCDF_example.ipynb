{
 "cells": [
  {
   "cell_type": "markdown",
   "metadata": {},
   "source": [
    "# QARTOD - NetCDF Examples\n",
    "\n",
    "This notebook provides examples of running QARTOD on a netCDF file. For background, see [NcQcConfig Usage](https://ioos.github.io/ioos_qc/usage.html#ncqcconfig) in the docs.\n",
    "\n",
    "There are multiple ways that you can integrate `ioos_qc` into your netcdf-based workflow. \n",
    "\n",
    "**Option A:** Store test configurations in your netcdf file, then pass that file to `ioos_qc` and let it run tests and update the file with results\n",
    "  * You only need to add test configurations to the file one time, and after that you could run tests over and over again on the same file\n",
    "  * When storing results in the netcdf file, the `ioos_qc` library ensures those variables are CF-compliant  \n",
    "  * This option is the most portable, since the data, configuration, and results are all in one place\n",
    "  * The downside is, test configuration management is difficult since it's stored in the file instead of some common external location\n",
    "  \n",
    "  \n",
    "**Option B:** Store test configurations externally, then pass your configuration and netcdf file to `ioos_qc`, and let it run tests and update the file with results\n",
    "  * In this case, you manage your test configurations outside the file, which is better for managing many datasets\n",
    "  * The library is still storing results in the netcdf file, which ensures self-describing, CF-compliant results\n",
    "\n",
    "\n",
    "**Option C:** Store test configurations externally, pass your configuration and netcdf file to `ioos_qc`, and manually update netcdf variables with results of the test\n",
    "  * In this case, you extract variables from the netcdf file, use `ioos_qc` methods to run tests, and then manually update the netcdf file with results\n",
    "  * This provides the most control, but doesn't take advantage of shared code in the `ioos_qc` library\n",
    "  * It's up to you to ensure your resulting netcdf is CF-compliant\n"
   ]
  },
  {
   "cell_type": "code",
   "execution_count": null,
   "metadata": {},
   "outputs": [],
   "source": [
    "# Setup directories\n",
    "from pathlib import Path\n",
    "basedir = Path().absolute()\n",
    "libdir = basedir.parent.parent.parent\n",
    "\n",
    "# Other imports\n",
    "import pandas as pd\n",
    "import numpy as np\n",
    "import xarray as xr\n",
    "from datetime import datetime\n",
    "\n",
    "from bokeh.layouts import gridplot\n",
    "from bokeh.plotting import figure, show, output_file, output_notebook\n",
    "output_notebook()"
   ]
  },
  {
   "cell_type": "code",
   "execution_count": null,
   "metadata": {},
   "outputs": [],
   "source": [
    "# # Install QC library\n",
    "# !pip install git+git://github.com/ioos/ioos_qc.git\n",
    "\n",
    "# # Alternative installation (install specific branch):\n",
    "# !pip uninstall -y ioos_qc\n",
    "# !pip install git+git://github.com/ioos/ioos_qc.git@BRANCHNAME\n",
    "\n",
    "# Alternative installation (run with local updates):\n",
    "!pip uninstall -y ioos_qc\n",
    "import sys\n",
    "sys.path.append(str(libdir))\n",
    "    \n",
    "from ioos_qc.config import NcQcConfig\n",
    "from ioos_qc import qartod"
   ]
  },
  {
   "cell_type": "markdown",
   "metadata": {},
   "source": [
    "## Load the netCDF dataset\n",
    "\n",
    "\n",
    "The example netCDF dataset is a pCO2 sensor from the Ocean Observatories Initiative (OOI) Coastal Endurance Inshore Surface Mooring instrument frame at 7 meters depth located on the Oregon Shelf break.\n"
   ]
  },
  {
   "cell_type": "code",
   "execution_count": null,
   "metadata": {},
   "outputs": [],
   "source": [
    "filename = basedir.joinpath('pco2_netcdf_example.nc')\n",
    "pco2 = xr.open_dataset(filename)"
   ]
  },
  {
   "cell_type": "code",
   "execution_count": null,
   "metadata": {},
   "outputs": [],
   "source": [
    "for dim in pco2.dims:\n",
    "    print(dim)"
   ]
  },
  {
   "cell_type": "code",
   "execution_count": null,
   "metadata": {},
   "outputs": [],
   "source": [
    "for var in pco2.variables:\n",
    "    print(var)"
   ]
  },
  {
   "cell_type": "code",
   "execution_count": null,
   "metadata": {},
   "outputs": [],
   "source": [
    "# Method to plot QC results using Bokeh\n",
    "def plot_ncresults(ncdata, var_name, results, title, test_name):\n",
    "\n",
    "    time = np.array(ncdata.variables['time'])\n",
    "    obs = np.array(ncdata.variables[var_name])\n",
    "    qc_test = results[var_name]['qartod'][test_name]\n",
    "\n",
    "    qc_pass = np.ma.masked_where(qc_test != 1, obs)\n",
    "    qc_suspect = np.ma.masked_where(qc_test != 3, obs)\n",
    "    qc_fail = np.ma.masked_where(qc_test != 4, obs)\n",
    "    qc_notrun = np.ma.masked_where(qc_test != 2, obs)\n",
    "\n",
    "    p1 = figure(x_axis_type=\"datetime\", title=test_name + ' : ' + title)\n",
    "    p1.grid.grid_line_alpha=0.3\n",
    "    p1.xaxis.axis_label = 'Time'\n",
    "    p1.yaxis.axis_label = 'Observation Value'\n",
    "\n",
    "    p1.line(time, obs,  legend_label='obs', color='#A6CEE3')\n",
    "    p1.circle(time, qc_notrun, size=2, legend_label='qc not run', color='gray', alpha=0.2)\n",
    "    p1.circle(time, qc_pass, size=4, legend_label='qc pass', color='green', alpha=0.5)\n",
    "    p1.circle(time, qc_suspect, size=4, legend_label='qc suspect', color='orange', alpha=0.7)\n",
    "    p1.circle(time, qc_fail, size=6, legend_label='qc fail', color='red', alpha=1.0)\n",
    "\n",
    "    #output_file(\"qc.html\", title=\"qc example\")\n",
    "\n",
    "    show(gridplot([[p1]], plot_width=800, plot_height=400))"
   ]
  },
  {
   "cell_type": "markdown",
   "metadata": {},
   "source": [
    "# Option A"
   ]
  },
  {
   "cell_type": "markdown",
   "metadata": {},
   "source": [
    "# Option B"
   ]
  },
  {
   "cell_type": "code",
   "execution_count": null,
   "metadata": {},
   "outputs": [],
   "source": []
  },
  {
   "cell_type": "markdown",
   "metadata": {},
   "source": [
    "# Option C: Manually run tests and store results\n",
    "\n",
    "Store test configurations externally, pass your configuration and netcdf file to `ioos_qc`, and manually update netcdf variables with results of the test"
   ]
  },
  {
   "cell_type": "markdown",
   "metadata": {},
   "source": [
    "## Setup & Run a single QC test"
   ]
  },
  {
   "cell_type": "code",
   "execution_count": null,
   "metadata": {},
   "outputs": [],
   "source": [
    "# Create the config object\n",
    "# The key \"pco2_seawater\" indicates which variable in the netcdf file this config should run against\n",
    "config = {\n",
    "    'pco2_seawater': {\n",
    "        'qartod': {\n",
    "            'gross_range_test': {\n",
    "                'suspect_span': [200, 600],\n",
    "                'fail_span': [0, 1200]\n",
    "            }\n",
    "        }\n",
    "    }\n",
    "}\n",
    "\n",
    "qc = NcQcConfig(config)"
   ]
  },
  {
   "cell_type": "code",
   "execution_count": null,
   "metadata": {},
   "outputs": [],
   "source": [
    "# To run the qc on a netCDF file, call the path to the file, not the load netCDF dataset\n",
    "qc_gross_range = qc.run(filename)"
   ]
  },
  {
   "cell_type": "code",
   "execution_count": null,
   "metadata": {},
   "outputs": [],
   "source": [
    "# Check that the output is an OrderedDict and ran correctly\n",
    "print(qc_gross_range)"
   ]
  },
  {
   "cell_type": "code",
   "execution_count": null,
   "metadata": {},
   "outputs": [],
   "source": [
    "plot_ncresults(pco2, 'pco2_seawater', qc_gross_range, 'pCO2 seawater', 'gross_range_test')"
   ]
  },
  {
   "cell_type": "markdown",
   "metadata": {},
   "source": [
    "## Multiple tests \n",
    "\n",
    "When utilizing the NcQcConfig object with tests which require an ancillary variable, such as lat/lon for the location test or time for the rate_of_change_test, the ancillary variables must be pulled out of the netCDF file and passed back into the qc.run method as kwargs."
   ]
  },
  {
   "cell_type": "code",
   "execution_count": null,
   "metadata": {},
   "outputs": [],
   "source": [
    "nclat = np.array(pco2.variables['lat'])\n",
    "nclon = np.array(pco2.variables['lon'])\n",
    "nctime = np.array(pco2.variables['time'])\n",
    "ncobs = np.array(pco2.variables['pco2_seawater'])"
   ]
  },
  {
   "cell_type": "code",
   "execution_count": null,
   "metadata": {},
   "outputs": [],
   "source": [
    "nctime"
   ]
  },
  {
   "cell_type": "code",
   "execution_count": null,
   "metadata": {},
   "outputs": [],
   "source": [
    "# Create the config object\n",
    "config = {\n",
    "    'pco2_seawater': {\n",
    "        'qartod': {\n",
    "            'gross_range_test': {\n",
    "                'suspect_span': [200, 600],\n",
    "                'fail_span': [0, 1200]\n",
    "            },\n",
    "            'location_test': {\n",
    "                'bbox': [-124.5, 44, -123.5, 45]\n",
    "            },\n",
    "            'spike_test': {\n",
    "                'suspect_threshold': 10,\n",
    "                'fail_threshold': 100                \n",
    "            },\n",
    "            'flat_line_test': {\n",
    "                'tolerance': 1,\n",
    "                'suspect_threshold': 3600,\n",
    "                'fail_threshold': 86400\n",
    "            },\n",
    "            \n",
    "        }\n",
    "    }\n",
    "}\n",
    "\n",
    "qc = NcQcConfig(config)"
   ]
  },
  {
   "cell_type": "code",
   "execution_count": null,
   "metadata": {},
   "outputs": [],
   "source": [
    "qc_results = qc.run(filename, pco2_seawater={'lat':nclat,'lon':nclon,'tinp':nctime})\n",
    "qc_results"
   ]
  },
  {
   "cell_type": "code",
   "execution_count": null,
   "metadata": {},
   "outputs": [],
   "source": [
    "plot_ncresults(pco2, 'pco2_seawater', qc_results, 'pCO2 seawater', 'flat_line_test')"
   ]
  },
  {
   "cell_type": "code",
   "execution_count": null,
   "metadata": {},
   "outputs": [],
   "source": [
    "plot_ncresults(pco2, 'pco2_seawater', qc_results, 'pCO2 seawater', 'spike_test')"
   ]
  },
  {
   "cell_type": "code",
   "execution_count": null,
   "metadata": {},
   "outputs": [],
   "source": [
    "plot_ncresults(pco2, 'pco2_seawater', qc_results, 'pCO2 seawater', 'gross_range_test')"
   ]
  },
  {
   "cell_type": "code",
   "execution_count": null,
   "metadata": {},
   "outputs": [],
   "source": [
    "plot_ncresults(pco2, 'pco2_seawater', qc_results, 'pCO2 seawater', 'location_test')"
   ]
  },
  {
   "cell_type": "markdown",
   "metadata": {},
   "source": [
    "# TODO: Currently, the aggregate (roll-up) flag is not implemented for netCDF files"
   ]
  }
 ],
 "metadata": {
  "kernelspec": {
   "display_name": "Python 3",
   "language": "python",
   "name": "python3"
  },
  "language_info": {
   "codemirror_mode": {
    "name": "ipython",
    "version": 3
   },
   "file_extension": ".py",
   "mimetype": "text/x-python",
   "name": "python",
   "nbconvert_exporter": "python",
   "pygments_lexer": "ipython3",
   "version": "3.7.6"
  }
 },
 "nbformat": 4,
 "nbformat_minor": 2
}
