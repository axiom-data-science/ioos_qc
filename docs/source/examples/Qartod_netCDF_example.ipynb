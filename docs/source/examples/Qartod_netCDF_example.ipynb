{
 "cells": [
  {
   "cell_type": "markdown",
   "metadata": {},
   "source": [
    "# QARTOD - NetCDF Examples\n",
    "\n",
    "This notebook provides examples of running QARTOD on a netCDF file. For background, see [NcQcConfig Usage](https://ioos.github.io/ioos_qc/usage.html#ncqcconfig) in the docs.\n",
    "\n",
    "There are multiple ways that you can integrate `ioos_qc` into your netcdf-based workflow. \n",
    "\n",
    "**Option A:** Store test configurations externally, pass your configuration and netcdf file to `ioos_qc`, and manually update netcdf variables with results of the test\n",
    "  * In this case, you extract variables from the netcdf file, use `ioos_qc` methods to run tests, and then manually update the netcdf file with results\n",
    "  * This provides the most control, but doesn't take advantage of shared code in the `ioos_qc` library\n",
    "  * It's up to you to ensure your resulting netcdf is self-describing and CF-compliant\n",
    "\n",
    "**Option B:** Store test configurations externally, then pass your configuration and netcdf file to `ioos_qc`, and let it run tests and update the file with results\n",
    "  * This takes advantage of `ioos_qc` code to store results and configuration in the netCDF file, and ensure a self-describing, CF-compliant file\n",
    "  * Managing your test configurations outside the file is better when dealing with a large number of datasets/configurations\n",
    "\n",
    "**Option C:** Store test configurations in your netcdf file, then pass that file to `ioos_qc` and let it run tests and update the file with results\n",
    "  * You only need to add test configurations to the file one time, and after that you could run tests over and over again on the same file\n",
    "  * This option is the most portable, since the data, configuration, and results are all in one place\n",
    "  * The downside is, test configuration management is difficult since it's stored in the file instead of some common external location\n",
    "  \n",
    "  "
   ]
  },
  {
   "cell_type": "code",
   "execution_count": null,
   "metadata": {},
   "outputs": [],
   "source": [
    "# Setup directories\n",
    "from pathlib import Path\n",
    "basedir = Path().absolute()\n",
    "libdir = basedir.parent.parent.parent\n",
    "\n",
    "# Other imports\n",
    "import pandas as pd\n",
    "import numpy as np\n",
    "import xarray as xr\n",
    "from datetime import datetime\n",
    "import netCDF4 as nc4\n",
    "\n",
    "import tempfile\n",
    "import os\n",
    "import shutil\n",
    "\n",
    "from bokeh.layouts import gridplot\n",
    "from bokeh.plotting import figure, show, output_file, output_notebook\n",
    "output_notebook()"
   ]
  },
  {
   "cell_type": "code",
   "execution_count": null,
   "metadata": {},
   "outputs": [],
   "source": [
    "# # Install QC library\n",
    "# !pip install git+git://github.com/ioos/ioos_qc.git\n",
    "\n",
    "# # Alternative installation (install specific branch):\n",
    "# !pip uninstall -y ioos_qc\n",
    "# !pip install git+git://github.com/ioos/ioos_qc.git@BRANCHNAME\n",
    "\n",
    "# Alternative installation (run with local updates):\n",
    "!pip uninstall -y ioos_qc\n",
    "import sys\n",
    "sys.path.append(str(libdir))\n",
    "    \n",
    "from ioos_qc.config import NcQcConfig\n",
    "from ioos_qc import qartod"
   ]
  },
  {
   "cell_type": "markdown",
   "metadata": {},
   "source": [
    "## Load the netCDF dataset\n",
    "\n",
    "\n",
    "The example netCDF dataset is a pCO2 sensor from the Ocean Observatories Initiative (OOI) Coastal Endurance Inshore Surface Mooring instrument frame at 7 meters depth located on the Oregon Shelf break.\n"
   ]
  },
  {
   "cell_type": "code",
   "execution_count": null,
   "metadata": {},
   "outputs": [],
   "source": [
    "filename = basedir.joinpath('pco2_netcdf_example.nc')\n",
    "pco2 = xr.open_dataset(filename)"
   ]
  },
  {
   "cell_type": "code",
   "execution_count": null,
   "metadata": {},
   "outputs": [],
   "source": [
    "for dim in pco2.dims:\n",
    "    print(dim)"
   ]
  },
  {
   "cell_type": "code",
   "execution_count": null,
   "metadata": {},
   "outputs": [],
   "source": [
    "for var in pco2.variables:\n",
    "    print(var)"
   ]
  },
  {
   "cell_type": "code",
   "execution_count": null,
   "metadata": {},
   "outputs": [],
   "source": [
    "# Plot raw data\n",
    "data=pco2['pco2_seawater']\n",
    "t = np.array(pco2['time'])\n",
    "x = np.array(data)\n",
    "\n",
    "p1 = figure(x_axis_type=\"datetime\", title='pco2_seawater')\n",
    "p1.grid.grid_line_alpha=0.3\n",
    "p1.xaxis.axis_label = 'Time'\n",
    "p1.yaxis.axis_label = data.units\n",
    "p1.line(t, x)\n",
    "\n",
    "show(gridplot([[p1]], plot_width=800, plot_height=400))"
   ]
  },
  {
   "cell_type": "markdown",
   "metadata": {},
   "source": [
    "# QC Configuration\n",
    "\n",
    "Here we define the generic config object for multiple QARTOD tests, plus the aggregate/rollup flag."
   ]
  },
  {
   "cell_type": "code",
   "execution_count": null,
   "metadata": {},
   "outputs": [],
   "source": [
    "# The key \"pco2_seawater\" indicates which variable in the netcdf file this config should run against\n",
    "config = {\n",
    "    'pco2_seawater': {\n",
    "        'qartod': {\n",
    "            'gross_range_test': {\n",
    "                'suspect_span': [200, 2400],\n",
    "                'fail_span': [0, 3000]\n",
    "            },\n",
    "            'spike_test': {\n",
    "                'suspect_threshold': 500,\n",
    "                'fail_threshold': 1000                \n",
    "            },\n",
    "            'location_test': {\n",
    "                'bbox': [-124.5, 44, -123.5, 45]\n",
    "            },\n",
    "            'flat_line_test': {\n",
    "                'tolerance': 1,\n",
    "                'suspect_threshold': 3600,\n",
    "                'fail_threshold': 86400\n",
    "            },\n",
    "            'aggregate': {}\n",
    "        }\n",
    "    }\n",
    "}\n"
   ]
  },
  {
   "cell_type": "code",
   "execution_count": null,
   "metadata": {},
   "outputs": [],
   "source": []
  },
  {
   "cell_type": "code",
   "execution_count": null,
   "metadata": {},
   "outputs": [],
   "source": [
    "# Helper method to plot QC results using Bokeh\n",
    "def plot_ncresults(ncdata, var_name, results, title, test_name):\n",
    "\n",
    "    time = np.array(ncdata.variables['time'])\n",
    "    obs = np.array(ncdata.variables[var_name])\n",
    "    qc_test = results[var_name]['qartod'][test_name]\n",
    "\n",
    "    qc_pass = np.ma.masked_where(qc_test != 1, obs)\n",
    "    num_pass = (qc_test == 1).sum()\n",
    "    qc_suspect = np.ma.masked_where(qc_test != 3, obs)\n",
    "    num_suspect = (qc_test == 3).sum()\n",
    "    qc_fail = np.ma.masked_where(qc_test != 4, obs)\n",
    "    num_fail = (qc_test == 4).sum()\n",
    "    qc_notrun = np.ma.masked_where(qc_test != 2, obs)\n",
    "\n",
    "    p1 = figure(x_axis_type=\"datetime\", title=test_name + ' : ' + title + ' : p/s/f=' + str(num_pass) + '/' + str(num_suspect) + '/' + str(num_fail))\n",
    "    p1.grid.grid_line_alpha=0.3\n",
    "    p1.xaxis.axis_label = 'Time'\n",
    "    p1.yaxis.axis_label = 'Observation Value'\n",
    "\n",
    "    p1.line(time, obs,  legend_label='obs', color='#A6CEE3')\n",
    "    p1.circle(time, qc_notrun, size=2, legend_label='qc not run', color='gray', alpha=0.2)\n",
    "    p1.circle(time, qc_pass, size=4, legend_label='qc pass', color='green', alpha=0.5)\n",
    "    p1.circle(time, qc_suspect, size=4, legend_label='qc suspect', color='orange', alpha=0.7)\n",
    "    p1.circle(time, qc_fail, size=6, legend_label='qc fail', color='red', alpha=1.0)\n",
    "\n",
    "    #output_file(\"qc.html\", title=\"qc example\")\n",
    "\n",
    "    show(gridplot([[p1]], plot_width=800, plot_height=400))"
   ]
  },
  {
   "cell_type": "markdown",
   "metadata": {},
   "source": [
    "# Option A: Manually run tests and store results\n",
    "\n",
    "Store test configurations externally, pass your configuration and netcdf file to `ioos_qc`, and manually update netcdf variables with results of the test"
   ]
  },
  {
   "cell_type": "code",
   "execution_count": null,
   "metadata": {},
   "outputs": [],
   "source": [
    "# Create NcQcConfig object \n",
    "# Note: For tests that need tinp, zinp, etc, use args to define the t, x, y, z dimensions\n",
    "#       In this case, we need latitude and longitude for the location test\n",
    "qc = NcQcConfig(config, lon='lon', lat='lat')\n",
    "\n",
    "# Run tests\n",
    "# Note: pass in the path to the file, *not* the netCDF dataset object\n",
    "results = qc.run(filename)"
   ]
  },
  {
   "cell_type": "code",
   "execution_count": null,
   "metadata": {},
   "outputs": [],
   "source": [
    "# The results are an OrderedDict, with an entry for each variable and test\n",
    "results"
   ]
  },
  {
   "cell_type": "code",
   "execution_count": null,
   "metadata": {},
   "outputs": [],
   "source": [
    "plot_ncresults(pco2, 'pco2_seawater', results, 'pCO2 seawater', 'gross_range_test')"
   ]
  },
  {
   "cell_type": "code",
   "execution_count": null,
   "metadata": {},
   "outputs": [],
   "source": [
    "plot_ncresults(pco2, 'pco2_seawater', results, 'pCO2 seawater', 'spike_test')"
   ]
  },
  {
   "cell_type": "code",
   "execution_count": null,
   "metadata": {},
   "outputs": [],
   "source": [
    "plot_ncresults(pco2, 'pco2_seawater', results, 'pCO2 seawater', 'flat_line_test')"
   ]
  },
  {
   "cell_type": "code",
   "execution_count": null,
   "metadata": {},
   "outputs": [],
   "source": [
    "plot_ncresults(pco2, 'pco2_seawater', results, 'pCO2 seawater', 'location_test')"
   ]
  },
  {
   "cell_type": "code",
   "execution_count": null,
   "metadata": {},
   "outputs": [],
   "source": [
    "# To see overall results, use the aggregate test\n",
    "plot_ncresults(pco2, 'pco2_seawater', results, 'pCO2 seawater', 'aggregate')"
   ]
  },
  {
   "cell_type": "code",
   "execution_count": null,
   "metadata": {},
   "outputs": [],
   "source": [
    "# Store results manually\n",
    "# This is just a simple example and stores the aggregate test flag as a variable. \n",
    "# You can expand upon this, or use the ioos_qc library to store the results for you (see subsequent examples)\n",
    "\n",
    "# Create output file\n",
    "outfile_a = os.path.join(tempfile.gettempdir(), 'out_a.nc')\n",
    "shutil.copy(filename, outfile_a)\n",
    "\n",
    "# Store results\n",
    "with nc4.Dataset(outfile_a, 'r+') as nc_file:\n",
    "    qc_agg = nc_file.createVariable('qartod_aggregate', 'u1', ('time',), fill_value=2)\n",
    "    qc_agg[:] = results['pco2_seawater']['qartod']['aggregate']\n",
    "    "
   ]
  },
  {
   "cell_type": "code",
   "execution_count": null,
   "metadata": {},
   "outputs": [],
   "source": [
    "# Print results \n",
    "out_a = xr.open_dataset(outfile_a)\n",
    "print(out_a['qartod_aggregate'])"
   ]
  },
  {
   "cell_type": "markdown",
   "metadata": {},
   "source": [
    "# Option B\n",
    "\n",
    "Store test configurations externally, then pass your configuration and netcdf file to `ioos_qc`, and let it run tests and update the file with results"
   ]
  },
  {
   "cell_type": "code",
   "execution_count": null,
   "metadata": {},
   "outputs": [],
   "source": [
    "# We already have results from the previous run, but re-create them here for completeness\n",
    "qc = NcQcConfig(config, lon='lon', lat='lat')\n",
    "results = qc.run(filename)\n",
    "results"
   ]
  },
  {
   "cell_type": "code",
   "execution_count": null,
   "metadata": {},
   "outputs": [],
   "source": [
    "# Create output file\n",
    "outfile_b = os.path.join(tempfile.gettempdir(), 'out_b.nc')\n",
    "shutil.copy(filename, outfile_b)\n",
    "\n",
    "# Use the library to store the results to the netcdf file\n",
    "qc.save_to_netcdf(outfile_b, results)\n"
   ]
  },
  {
   "cell_type": "code",
   "execution_count": null,
   "metadata": {},
   "outputs": [],
   "source": [
    "# Explore results: qc test variables are named [variable_name]_qartod_[test_name]\n",
    "out_b = xr.open_dataset(outfile_b)\n",
    "print(out_b)"
   ]
  },
  {
   "cell_type": "code",
   "execution_count": null,
   "metadata": {},
   "outputs": [],
   "source": [
    "# Gross range test\n",
    "# Note how the config used is stored in the ioos_qc_* variables\n",
    "out_b['pco2_seawater_qartod_gross_range_test']"
   ]
  },
  {
   "cell_type": "code",
   "execution_count": null,
   "metadata": {},
   "outputs": [],
   "source": [
    "# Aggregate/rollup flag\n",
    "out_b['pco2_seawater_qartod_aggregate']"
   ]
  },
  {
   "cell_type": "markdown",
   "metadata": {},
   "source": [
    "# Option C\n",
    "\n",
    "Store test configurations in your netcdf file, then pass that file to `ioos_qc` and let it run tests and update the file with results.\n",
    "\n",
    "In the example above, we used the library to store results and config in the netcdf file itself. At this point, we can load that same file and run tests again, without having to re-define config. This is very powerful!"
   ]
  },
  {
   "cell_type": "code",
   "execution_count": null,
   "metadata": {},
   "outputs": [],
   "source": [
    "# Create a copy of the output from B \n",
    "outfile_c = os.path.join(tempfile.gettempdir(), 'out_c.nc')\n",
    "shutil.copy(outfile_b, outfile_c)\n",
    "\n",
    "# Load this file into the NcQcConfig object\n",
    "qc = NcQcConfig(outfile_c, lon='lon', lat='lat')\n",
    "\n",
    "# Run tests and store results\n",
    "results_c = qc.run(outfile_c)\n",
    "qc.save_to_netcdf(outfile_c, results_c)\n"
   ]
  },
  {
   "cell_type": "code",
   "execution_count": null,
   "metadata": {},
   "outputs": [],
   "source": [
    "# Explore results\n",
    "out_c = xr.open_dataset(outfile_c)\n",
    "print(out_c)"
   ]
  },
  {
   "cell_type": "code",
   "execution_count": null,
   "metadata": {},
   "outputs": [],
   "source": []
  }
 ],
 "metadata": {
  "kernelspec": {
   "display_name": "Python 3",
   "language": "python",
   "name": "python3"
  },
  "language_info": {
   "codemirror_mode": {
    "name": "ipython",
    "version": 3
   },
   "file_extension": ".py",
   "mimetype": "text/x-python",
   "name": "python",
   "nbconvert_exporter": "python",
   "pygments_lexer": "ipython3",
   "version": "3.7.6"
  }
 },
 "nbformat": 4,
 "nbformat_minor": 2
}
